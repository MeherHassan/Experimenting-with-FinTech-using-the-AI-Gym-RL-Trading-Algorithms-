{
  "cells": [
    {
      "cell_type": "markdown",
      "metadata": {
        "id": "Ktf5GoZrjxmN"
      },
      "source": [
        "# 0. Install and Import dependencies"
      ]
    },
    {
      "cell_type": "code",
      "execution_count": null,
      "metadata": {
        "colab": {
          "base_uri": "https://localhost:8080/"
        },
        "id": "OTGRSTv8jxmb",
        "outputId": "a0e3d8a2-9b91-4a9c-829c-0f99273795b2"
      },
      "outputs": [
        {
          "output_type": "stream",
          "name": "stdout",
          "text": [
            "Requirement already satisfied: tensorflow==1.15 in /usr/local/lib/python3.7/dist-packages (1.15.0)\n",
            "Requirement already satisfied: tensorflow-gpu==1.15 in /usr/local/lib/python3.7/dist-packages (1.15.0)\n",
            "Requirement already satisfied: stable-baselines in /usr/local/lib/python3.7/dist-packages (2.10.2)\n",
            "Requirement already satisfied: gym-anytrading in /usr/local/lib/python3.7/dist-packages (1.2.0)\n",
            "Requirement already satisfied: gym in /usr/local/lib/python3.7/dist-packages (0.17.3)\n",
            "Requirement already satisfied: termcolor>=1.1.0 in /usr/local/lib/python3.7/dist-packages (from tensorflow==1.15) (1.1.0)\n",
            "Requirement already satisfied: six>=1.10.0 in /usr/local/lib/python3.7/dist-packages (from tensorflow==1.15) (1.15.0)\n",
            "Requirement already satisfied: google-pasta>=0.1.6 in /usr/local/lib/python3.7/dist-packages (from tensorflow==1.15) (0.2.0)\n",
            "Requirement already satisfied: astor>=0.6.0 in /usr/local/lib/python3.7/dist-packages (from tensorflow==1.15) (0.8.1)\n",
            "Requirement already satisfied: absl-py>=0.7.0 in /usr/local/lib/python3.7/dist-packages (from tensorflow==1.15) (1.0.0)\n",
            "Requirement already satisfied: keras-applications>=1.0.8 in /usr/local/lib/python3.7/dist-packages (from tensorflow==1.15) (1.0.8)\n",
            "Requirement already satisfied: opt-einsum>=2.3.2 in /usr/local/lib/python3.7/dist-packages (from tensorflow==1.15) (3.3.0)\n",
            "Requirement already satisfied: protobuf>=3.6.1 in /usr/local/lib/python3.7/dist-packages (from tensorflow==1.15) (3.17.3)\n",
            "Requirement already satisfied: tensorboard<1.16.0,>=1.15.0 in /usr/local/lib/python3.7/dist-packages (from tensorflow==1.15) (1.15.0)\n",
            "Requirement already satisfied: numpy<2.0,>=1.16.0 in /usr/local/lib/python3.7/dist-packages (from tensorflow==1.15) (1.21.5)\n",
            "Requirement already satisfied: wheel>=0.26 in /usr/local/lib/python3.7/dist-packages (from tensorflow==1.15) (0.37.1)\n",
            "Requirement already satisfied: keras-preprocessing>=1.0.5 in /usr/local/lib/python3.7/dist-packages (from tensorflow==1.15) (1.1.2)\n",
            "Requirement already satisfied: wrapt>=1.11.1 in /usr/local/lib/python3.7/dist-packages (from tensorflow==1.15) (1.13.3)\n",
            "Requirement already satisfied: tensorflow-estimator==1.15.1 in /usr/local/lib/python3.7/dist-packages (from tensorflow==1.15) (1.15.1)\n",
            "Requirement already satisfied: grpcio>=1.8.6 in /usr/local/lib/python3.7/dist-packages (from tensorflow==1.15) (1.43.0)\n",
            "Requirement already satisfied: gast==0.2.2 in /usr/local/lib/python3.7/dist-packages (from tensorflow==1.15) (0.2.2)\n",
            "Requirement already satisfied: h5py in /usr/local/lib/python3.7/dist-packages (from keras-applications>=1.0.8->tensorflow==1.15) (3.1.0)\n",
            "Requirement already satisfied: setuptools>=41.0.0 in /usr/local/lib/python3.7/dist-packages (from tensorboard<1.16.0,>=1.15.0->tensorflow==1.15) (57.4.0)\n",
            "Requirement already satisfied: markdown>=2.6.8 in /usr/local/lib/python3.7/dist-packages (from tensorboard<1.16.0,>=1.15.0->tensorflow==1.15) (3.3.6)\n",
            "Requirement already satisfied: werkzeug>=0.11.15 in /usr/local/lib/python3.7/dist-packages (from tensorboard<1.16.0,>=1.15.0->tensorflow==1.15) (1.0.1)\n",
            "Requirement already satisfied: importlib-metadata>=4.4 in /usr/local/lib/python3.7/dist-packages (from markdown>=2.6.8->tensorboard<1.16.0,>=1.15.0->tensorflow==1.15) (4.11.0)\n",
            "Requirement already satisfied: zipp>=0.5 in /usr/local/lib/python3.7/dist-packages (from importlib-metadata>=4.4->markdown>=2.6.8->tensorboard<1.16.0,>=1.15.0->tensorflow==1.15) (3.7.0)\n",
            "Requirement already satisfied: typing-extensions>=3.6.4 in /usr/local/lib/python3.7/dist-packages (from importlib-metadata>=4.4->markdown>=2.6.8->tensorboard<1.16.0,>=1.15.0->tensorflow==1.15) (3.10.0.2)\n",
            "Requirement already satisfied: joblib in /usr/local/lib/python3.7/dist-packages (from stable-baselines) (1.1.0)\n",
            "Requirement already satisfied: cloudpickle>=0.5.5 in /usr/local/lib/python3.7/dist-packages (from stable-baselines) (1.3.0)\n",
            "Requirement already satisfied: pandas in /usr/local/lib/python3.7/dist-packages (from stable-baselines) (1.3.5)\n",
            "Requirement already satisfied: opencv-python in /usr/local/lib/python3.7/dist-packages (from stable-baselines) (4.1.2.30)\n",
            "Requirement already satisfied: scipy in /usr/local/lib/python3.7/dist-packages (from stable-baselines) (1.4.1)\n",
            "Requirement already satisfied: matplotlib in /usr/local/lib/python3.7/dist-packages (from stable-baselines) (3.2.2)\n",
            "Requirement already satisfied: pyglet<=1.5.0,>=1.4.0 in /usr/local/lib/python3.7/dist-packages (from gym) (1.5.0)\n",
            "Requirement already satisfied: Pillow in /usr/local/lib/python3.7/dist-packages (from gym) (7.1.2)\n",
            "Requirement already satisfied: atari-py~=0.2.0 in /usr/local/lib/python3.7/dist-packages (from gym) (0.2.9)\n",
            "Requirement already satisfied: future in /usr/local/lib/python3.7/dist-packages (from pyglet<=1.5.0,>=1.4.0->gym) (0.16.0)\n",
            "Requirement already satisfied: kiwisolver>=1.0.1 in /usr/local/lib/python3.7/dist-packages (from matplotlib->stable-baselines) (1.3.2)\n",
            "Requirement already satisfied: python-dateutil>=2.1 in /usr/local/lib/python3.7/dist-packages (from matplotlib->stable-baselines) (2.8.2)\n",
            "Requirement already satisfied: pyparsing!=2.0.4,!=2.1.2,!=2.1.6,>=2.0.1 in /usr/local/lib/python3.7/dist-packages (from matplotlib->stable-baselines) (3.0.7)\n",
            "Requirement already satisfied: cycler>=0.10 in /usr/local/lib/python3.7/dist-packages (from matplotlib->stable-baselines) (0.11.0)\n",
            "Requirement already satisfied: pytz>=2017.3 in /usr/local/lib/python3.7/dist-packages (from pandas->stable-baselines) (2018.9)\n",
            "Requirement already satisfied: cached-property in /usr/local/lib/python3.7/dist-packages (from h5py->keras-applications>=1.0.8->tensorflow==1.15) (1.5.2)\n"
          ]
        }
      ],
      "source": [
        "!pip install tensorflow==1.15 tensorflow-gpu==1.15 stable-baselines gym-anytrading gym"
      ]
    },
    {
      "cell_type": "code",
      "execution_count": null,
      "metadata": {
        "id": "x-f7M_W_jxmf",
        "outputId": "b826cfc7-bb05-4f59-b471-8c5f76f8aadb",
        "colab": {
          "base_uri": "https://localhost:8080/"
        }
      },
      "outputs": [
        {
          "output_type": "execute_result",
          "data": {
            "text/plain": [
              "0"
            ]
          },
          "metadata": {},
          "execution_count": 27
        }
      ],
      "source": [
        "import subprocess\n",
        "import sys\n",
        "subprocess.check_call([sys.executable, \"-m\",\n",
        "    \"pip\", \"install\", \"--user\", \"tensorflow==1.15.0\"])"
      ]
    },
    {
      "cell_type": "code",
      "execution_count": null,
      "metadata": {
        "id": "4RUsv25bjxmh"
      },
      "outputs": [],
      "source": [
        "import tensorflow as tf"
      ]
    },
    {
      "cell_type": "code",
      "execution_count": null,
      "metadata": {
        "id": "H59UEng-jxmi",
        "colab": {
          "base_uri": "https://localhost:8080/"
        },
        "outputId": "e3205431-ba3f-4003-fb6b-9c875af66c27"
      },
      "outputs": [
        {
          "output_type": "stream",
          "name": "stdout",
          "text": [
            "Requirement already satisfied: tensorflow-gpu==1.15 in /usr/local/lib/python3.7/dist-packages (1.15.0)\n",
            "Requirement already satisfied: keras-preprocessing>=1.0.5 in /usr/local/lib/python3.7/dist-packages (from tensorflow-gpu==1.15) (1.1.2)\n",
            "Requirement already satisfied: tensorboard<1.16.0,>=1.15.0 in /usr/local/lib/python3.7/dist-packages (from tensorflow-gpu==1.15) (1.15.0)\n",
            "Requirement already satisfied: wheel>=0.26 in /usr/local/lib/python3.7/dist-packages (from tensorflow-gpu==1.15) (0.37.1)\n",
            "Requirement already satisfied: gast==0.2.2 in /usr/local/lib/python3.7/dist-packages (from tensorflow-gpu==1.15) (0.2.2)\n",
            "Requirement already satisfied: numpy<2.0,>=1.16.0 in /usr/local/lib/python3.7/dist-packages (from tensorflow-gpu==1.15) (1.21.5)\n",
            "Requirement already satisfied: six>=1.10.0 in /usr/local/lib/python3.7/dist-packages (from tensorflow-gpu==1.15) (1.15.0)\n",
            "Requirement already satisfied: opt-einsum>=2.3.2 in /usr/local/lib/python3.7/dist-packages (from tensorflow-gpu==1.15) (3.3.0)\n",
            "Requirement already satisfied: wrapt>=1.11.1 in /usr/local/lib/python3.7/dist-packages (from tensorflow-gpu==1.15) (1.13.3)\n",
            "Requirement already satisfied: protobuf>=3.6.1 in /usr/local/lib/python3.7/dist-packages (from tensorflow-gpu==1.15) (3.17.3)\n",
            "Requirement already satisfied: astor>=0.6.0 in /usr/local/lib/python3.7/dist-packages (from tensorflow-gpu==1.15) (0.8.1)\n",
            "Requirement already satisfied: termcolor>=1.1.0 in /usr/local/lib/python3.7/dist-packages (from tensorflow-gpu==1.15) (1.1.0)\n",
            "Requirement already satisfied: keras-applications>=1.0.8 in /usr/local/lib/python3.7/dist-packages (from tensorflow-gpu==1.15) (1.0.8)\n",
            "Requirement already satisfied: absl-py>=0.7.0 in /usr/local/lib/python3.7/dist-packages (from tensorflow-gpu==1.15) (1.0.0)\n",
            "Requirement already satisfied: tensorflow-estimator==1.15.1 in /usr/local/lib/python3.7/dist-packages (from tensorflow-gpu==1.15) (1.15.1)\n",
            "Requirement already satisfied: grpcio>=1.8.6 in /usr/local/lib/python3.7/dist-packages (from tensorflow-gpu==1.15) (1.43.0)\n",
            "Requirement already satisfied: google-pasta>=0.1.6 in /usr/local/lib/python3.7/dist-packages (from tensorflow-gpu==1.15) (0.2.0)\n",
            "Requirement already satisfied: h5py in /usr/local/lib/python3.7/dist-packages (from keras-applications>=1.0.8->tensorflow-gpu==1.15) (3.1.0)\n",
            "Requirement already satisfied: markdown>=2.6.8 in /usr/local/lib/python3.7/dist-packages (from tensorboard<1.16.0,>=1.15.0->tensorflow-gpu==1.15) (3.3.6)\n",
            "Requirement already satisfied: setuptools>=41.0.0 in /usr/local/lib/python3.7/dist-packages (from tensorboard<1.16.0,>=1.15.0->tensorflow-gpu==1.15) (57.4.0)\n",
            "Requirement already satisfied: werkzeug>=0.11.15 in /usr/local/lib/python3.7/dist-packages (from tensorboard<1.16.0,>=1.15.0->tensorflow-gpu==1.15) (1.0.1)\n",
            "Requirement already satisfied: importlib-metadata>=4.4 in /usr/local/lib/python3.7/dist-packages (from markdown>=2.6.8->tensorboard<1.16.0,>=1.15.0->tensorflow-gpu==1.15) (4.11.0)\n",
            "Requirement already satisfied: zipp>=0.5 in /usr/local/lib/python3.7/dist-packages (from importlib-metadata>=4.4->markdown>=2.6.8->tensorboard<1.16.0,>=1.15.0->tensorflow-gpu==1.15) (3.7.0)\n",
            "Requirement already satisfied: typing-extensions>=3.6.4 in /usr/local/lib/python3.7/dist-packages (from importlib-metadata>=4.4->markdown>=2.6.8->tensorboard<1.16.0,>=1.15.0->tensorflow-gpu==1.15) (3.10.0.2)\n",
            "Requirement already satisfied: cached-property in /usr/local/lib/python3.7/dist-packages (from h5py->keras-applications>=1.0.8->tensorflow-gpu==1.15) (1.5.2)\n"
          ]
        }
      ],
      "source": [
        "!pip install tensorflow-gpu==1.15"
      ]
    },
    {
      "cell_type": "code",
      "execution_count": null,
      "metadata": {
        "colab": {
          "base_uri": "https://localhost:8080/"
        },
        "id": "O9-29bIIjxmj",
        "outputId": "ca3f9106-8d84-40b5-bc94-747012bf5c39"
      },
      "outputs": [
        {
          "output_type": "stream",
          "name": "stdout",
          "text": [
            "TensorFlow is already loaded. Please restart the runtime to change versions.\n"
          ]
        }
      ],
      "source": [
        "%tensorflow_version 1.x"
      ]
    },
    {
      "cell_type": "code",
      "execution_count": null,
      "metadata": {
        "colab": {
          "base_uri": "https://localhost:8080/"
        },
        "id": "lI-IqTZqjxmn",
        "outputId": "efb1b4d9-0921-4e30-9700-06e810668e2a"
      },
      "outputs": [
        {
          "output_type": "stream",
          "name": "stdout",
          "text": [
            "1.15.0\n"
          ]
        }
      ],
      "source": [
        "print(tf.__version__)"
      ]
    },
    {
      "cell_type": "code",
      "execution_count": null,
      "metadata": {
        "id": "ySscfckUjxmq",
        "outputId": "3d3fddd8-d9ba-44a9-b9a0-3d5fb0a25394",
        "colab": {
          "base_uri": "https://localhost:8080/"
        }
      },
      "outputs": [
        {
          "output_type": "stream",
          "name": "stdout",
          "text": [
            "pip 21.1.3 from /usr/local/lib/python3.7/dist-packages/pip (python 3.7)\n"
          ]
        }
      ],
      "source": [
        "!pip --version"
      ]
    },
    {
      "cell_type": "code",
      "execution_count": null,
      "metadata": {
        "id": "q1AsItCGjxmr",
        "outputId": "f9b7762b-b6db-484a-eca0-edace14194ef",
        "colab": {
          "base_uri": "https://localhost:8080/"
        }
      },
      "outputs": [
        {
          "output_type": "stream",
          "name": "stdout",
          "text": [
            "Python 3.7.12\n"
          ]
        }
      ],
      "source": [
        "!python --version"
      ]
    },
    {
      "cell_type": "code",
      "execution_count": null,
      "metadata": {
        "id": "bLysWz6Kjxmt",
        "outputId": "4dc24689-24b4-4d4f-f451-192eb54849c4",
        "colab": {
          "base_uri": "https://localhost:8080/"
        }
      },
      "outputs": [
        {
          "output_type": "stream",
          "name": "stdout",
          "text": [
            "Requirement already satisfied: numpy in /usr/local/lib/python3.7/dist-packages (1.21.5)\n",
            "Requirement already satisfied: pandas in /usr/local/lib/python3.7/dist-packages (1.3.5)\n",
            "Requirement already satisfied: matplotlib in /usr/local/lib/python3.7/dist-packages (3.2.2)\n",
            "Requirement already satisfied: python-dateutil>=2.7.3 in /usr/local/lib/python3.7/dist-packages (from pandas) (2.8.2)\n",
            "Requirement already satisfied: pytz>=2017.3 in /usr/local/lib/python3.7/dist-packages (from pandas) (2018.9)\n",
            "Requirement already satisfied: six>=1.5 in /usr/local/lib/python3.7/dist-packages (from python-dateutil>=2.7.3->pandas) (1.15.0)\n",
            "Requirement already satisfied: pyparsing!=2.0.4,!=2.1.2,!=2.1.6,>=2.0.1 in /usr/local/lib/python3.7/dist-packages (from matplotlib) (3.0.7)\n",
            "Requirement already satisfied: kiwisolver>=1.0.1 in /usr/local/lib/python3.7/dist-packages (from matplotlib) (1.3.2)\n",
            "Requirement already satisfied: cycler>=0.10 in /usr/local/lib/python3.7/dist-packages (from matplotlib) (0.11.0)\n"
          ]
        }
      ],
      "source": [
        "!pip install numpy pandas matplotlib"
      ]
    },
    {
      "cell_type": "code",
      "execution_count": null,
      "metadata": {
        "id": "tH8nTaSMjxmv"
      },
      "outputs": [],
      "source": [
        "# Gym stuff\n",
        "import gym\n",
        "import gym_anytrading\n",
        "\n",
        "# Stable baselines - rl stuff\n",
        "from stable_baselines.common.vec_env import DummyVecEnv\n",
        "from stable_baselines import A2C\n",
        "\n",
        "# Processing libraries\n",
        "import numpy as np\n",
        "import pandas as pd\n",
        "from matplotlib import pyplot as plt"
      ]
    },
    {
      "cell_type": "markdown",
      "metadata": {
        "id": "xPBa8D4gjxmx"
      },
      "source": [
        "# 1. Bring in Marketwatch GME Data \n",
        "https://www.marketwatch.com/investing/stock/gme/download-data?startDate=11/1/2019&endDate=03/12/2021"
      ]
    },
    {
      "cell_type": "code",
      "source": [
        ""
      ],
      "metadata": {
        "id": "q6NZC-yC2FgQ"
      },
      "execution_count": null,
      "outputs": []
    },
    {
      "cell_type": "code",
      "execution_count": null,
      "metadata": {
        "id": "sQK44_1Wjxmy"
      },
      "outputs": [],
      "source": [
        "df = pd.read_csv('/content/drive/MyDrive/AI/data/gmedata.csv')"
      ]
    },
    {
      "cell_type": "code",
      "source": [
        "from google.colab import drive\n",
        "drive.mount('/content/drive')"
      ],
      "metadata": {
        "colab": {
          "base_uri": "https://localhost:8080/"
        },
        "id": "HdxxRF90kyci",
        "outputId": "d2eb8c55-47c7-483d-c77a-fb20c2fe28ee"
      },
      "execution_count": null,
      "outputs": [
        {
          "output_type": "stream",
          "name": "stdout",
          "text": [
            "Drive already mounted at /content/drive; to attempt to forcibly remount, call drive.mount(\"/content/drive\", force_remount=True).\n"
          ]
        }
      ]
    },
    {
      "cell_type": "code",
      "execution_count": null,
      "metadata": {
        "colab": {
          "base_uri": "https://localhost:8080/",
          "height": 206
        },
        "id": "akIO3vaojxmz",
        "outputId": "d70a0251-a754-43be-99ed-21d4efa62b62"
      },
      "outputs": [
        {
          "output_type": "execute_result",
          "data": {
            "text/html": [
              "\n",
              "  <div id=\"df-6b58b944-5ee5-4bae-9bfb-eeb015bae611\">\n",
              "    <div class=\"colab-df-container\">\n",
              "      <div>\n",
              "<style scoped>\n",
              "    .dataframe tbody tr th:only-of-type {\n",
              "        vertical-align: middle;\n",
              "    }\n",
              "\n",
              "    .dataframe tbody tr th {\n",
              "        vertical-align: top;\n",
              "    }\n",
              "\n",
              "    .dataframe thead th {\n",
              "        text-align: right;\n",
              "    }\n",
              "</style>\n",
              "<table border=\"1\" class=\"dataframe\">\n",
              "  <thead>\n",
              "    <tr style=\"text-align: right;\">\n",
              "      <th></th>\n",
              "      <th>Date</th>\n",
              "      <th>Open</th>\n",
              "      <th>High</th>\n",
              "      <th>Low</th>\n",
              "      <th>Close</th>\n",
              "      <th>Volume</th>\n",
              "    </tr>\n",
              "  </thead>\n",
              "  <tbody>\n",
              "    <tr>\n",
              "      <th>0</th>\n",
              "      <td>03/12/2021</td>\n",
              "      <td>275.00</td>\n",
              "      <td>295.50</td>\n",
              "      <td>262.27</td>\n",
              "      <td>264.5</td>\n",
              "      <td>25,845,900</td>\n",
              "    </tr>\n",
              "    <tr>\n",
              "      <th>1</th>\n",
              "      <td>03/11/2021</td>\n",
              "      <td>241.64</td>\n",
              "      <td>281.50</td>\n",
              "      <td>232.60</td>\n",
              "      <td>260.0</td>\n",
              "      <td>28,312,490</td>\n",
              "    </tr>\n",
              "    <tr>\n",
              "      <th>2</th>\n",
              "      <td>03/10/2021</td>\n",
              "      <td>269.43</td>\n",
              "      <td>348.50</td>\n",
              "      <td>172.00</td>\n",
              "      <td>265.0</td>\n",
              "      <td>71,570,570</td>\n",
              "    </tr>\n",
              "    <tr>\n",
              "      <th>3</th>\n",
              "      <td>03/09/2021</td>\n",
              "      <td>217.71</td>\n",
              "      <td>249.85</td>\n",
              "      <td>208.51</td>\n",
              "      <td>246.9</td>\n",
              "      <td>39,099,328</td>\n",
              "    </tr>\n",
              "    <tr>\n",
              "      <th>4</th>\n",
              "      <td>03/08/2021</td>\n",
              "      <td>154.89</td>\n",
              "      <td>210.87</td>\n",
              "      <td>146.10</td>\n",
              "      <td>194.5</td>\n",
              "      <td>63,565,621</td>\n",
              "    </tr>\n",
              "  </tbody>\n",
              "</table>\n",
              "</div>\n",
              "      <button class=\"colab-df-convert\" onclick=\"convertToInteractive('df-6b58b944-5ee5-4bae-9bfb-eeb015bae611')\"\n",
              "              title=\"Convert this dataframe to an interactive table.\"\n",
              "              style=\"display:none;\">\n",
              "        \n",
              "  <svg xmlns=\"http://www.w3.org/2000/svg\" height=\"24px\"viewBox=\"0 0 24 24\"\n",
              "       width=\"24px\">\n",
              "    <path d=\"M0 0h24v24H0V0z\" fill=\"none\"/>\n",
              "    <path d=\"M18.56 5.44l.94 2.06.94-2.06 2.06-.94-2.06-.94-.94-2.06-.94 2.06-2.06.94zm-11 1L8.5 8.5l.94-2.06 2.06-.94-2.06-.94L8.5 2.5l-.94 2.06-2.06.94zm10 10l.94 2.06.94-2.06 2.06-.94-2.06-.94-.94-2.06-.94 2.06-2.06.94z\"/><path d=\"M17.41 7.96l-1.37-1.37c-.4-.4-.92-.59-1.43-.59-.52 0-1.04.2-1.43.59L10.3 9.45l-7.72 7.72c-.78.78-.78 2.05 0 2.83L4 21.41c.39.39.9.59 1.41.59.51 0 1.02-.2 1.41-.59l7.78-7.78 2.81-2.81c.8-.78.8-2.07 0-2.86zM5.41 20L4 18.59l7.72-7.72 1.47 1.35L5.41 20z\"/>\n",
              "  </svg>\n",
              "      </button>\n",
              "      \n",
              "  <style>\n",
              "    .colab-df-container {\n",
              "      display:flex;\n",
              "      flex-wrap:wrap;\n",
              "      gap: 12px;\n",
              "    }\n",
              "\n",
              "    .colab-df-convert {\n",
              "      background-color: #E8F0FE;\n",
              "      border: none;\n",
              "      border-radius: 50%;\n",
              "      cursor: pointer;\n",
              "      display: none;\n",
              "      fill: #1967D2;\n",
              "      height: 32px;\n",
              "      padding: 0 0 0 0;\n",
              "      width: 32px;\n",
              "    }\n",
              "\n",
              "    .colab-df-convert:hover {\n",
              "      background-color: #E2EBFA;\n",
              "      box-shadow: 0px 1px 2px rgba(60, 64, 67, 0.3), 0px 1px 3px 1px rgba(60, 64, 67, 0.15);\n",
              "      fill: #174EA6;\n",
              "    }\n",
              "\n",
              "    [theme=dark] .colab-df-convert {\n",
              "      background-color: #3B4455;\n",
              "      fill: #D2E3FC;\n",
              "    }\n",
              "\n",
              "    [theme=dark] .colab-df-convert:hover {\n",
              "      background-color: #434B5C;\n",
              "      box-shadow: 0px 1px 3px 1px rgba(0, 0, 0, 0.15);\n",
              "      filter: drop-shadow(0px 1px 2px rgba(0, 0, 0, 0.3));\n",
              "      fill: #FFFFFF;\n",
              "    }\n",
              "  </style>\n",
              "\n",
              "      <script>\n",
              "        const buttonEl =\n",
              "          document.querySelector('#df-6b58b944-5ee5-4bae-9bfb-eeb015bae611 button.colab-df-convert');\n",
              "        buttonEl.style.display =\n",
              "          google.colab.kernel.accessAllowed ? 'block' : 'none';\n",
              "\n",
              "        async function convertToInteractive(key) {\n",
              "          const element = document.querySelector('#df-6b58b944-5ee5-4bae-9bfb-eeb015bae611');\n",
              "          const dataTable =\n",
              "            await google.colab.kernel.invokeFunction('convertToInteractive',\n",
              "                                                     [key], {});\n",
              "          if (!dataTable) return;\n",
              "\n",
              "          const docLinkHtml = 'Like what you see? Visit the ' +\n",
              "            '<a target=\"_blank\" href=https://colab.research.google.com/notebooks/data_table.ipynb>data table notebook</a>'\n",
              "            + ' to learn more about interactive tables.';\n",
              "          element.innerHTML = '';\n",
              "          dataTable['output_type'] = 'display_data';\n",
              "          await google.colab.output.renderOutput(dataTable, element);\n",
              "          const docLink = document.createElement('div');\n",
              "          docLink.innerHTML = docLinkHtml;\n",
              "          element.appendChild(docLink);\n",
              "        }\n",
              "      </script>\n",
              "    </div>\n",
              "  </div>\n",
              "  "
            ],
            "text/plain": [
              "         Date    Open    High     Low  Close      Volume\n",
              "0  03/12/2021  275.00  295.50  262.27  264.5  25,845,900\n",
              "1  03/11/2021  241.64  281.50  232.60  260.0  28,312,490\n",
              "2  03/10/2021  269.43  348.50  172.00  265.0  71,570,570\n",
              "3  03/09/2021  217.71  249.85  208.51  246.9  39,099,328\n",
              "4  03/08/2021  154.89  210.87  146.10  194.5  63,565,621"
            ]
          },
          "metadata": {},
          "execution_count": 38
        }
      ],
      "source": [
        "df.head()"
      ]
    },
    {
      "cell_type": "code",
      "execution_count": null,
      "metadata": {
        "colab": {
          "base_uri": "https://localhost:8080/"
        },
        "id": "yZ1pwBufjxm0",
        "outputId": "72fb9932-48e7-4fbb-c3b0-cefe412fc74b"
      },
      "outputs": [
        {
          "output_type": "execute_result",
          "data": {
            "text/plain": [
              "Date      datetime64[ns]\n",
              "Open             float64\n",
              "High             float64\n",
              "Low              float64\n",
              "Close            float64\n",
              "Volume            object\n",
              "dtype: object"
            ]
          },
          "metadata": {},
          "execution_count": 39
        }
      ],
      "source": [
        "df['Date'] = pd.to_datetime(df['Date'])\n",
        "df.dtypes"
      ]
    },
    {
      "cell_type": "code",
      "execution_count": null,
      "metadata": {
        "colab": {
          "base_uri": "https://localhost:8080/",
          "height": 238
        },
        "id": "Cf9I_hryjxm1",
        "outputId": "b207b8f6-3ee2-4ff1-9402-22f5655f50ee"
      },
      "outputs": [
        {
          "output_type": "execute_result",
          "data": {
            "text/html": [
              "\n",
              "  <div id=\"df-2ab7170e-a220-41ed-917a-9efff09c9143\">\n",
              "    <div class=\"colab-df-container\">\n",
              "      <div>\n",
              "<style scoped>\n",
              "    .dataframe tbody tr th:only-of-type {\n",
              "        vertical-align: middle;\n",
              "    }\n",
              "\n",
              "    .dataframe tbody tr th {\n",
              "        vertical-align: top;\n",
              "    }\n",
              "\n",
              "    .dataframe thead th {\n",
              "        text-align: right;\n",
              "    }\n",
              "</style>\n",
              "<table border=\"1\" class=\"dataframe\">\n",
              "  <thead>\n",
              "    <tr style=\"text-align: right;\">\n",
              "      <th></th>\n",
              "      <th>Open</th>\n",
              "      <th>High</th>\n",
              "      <th>Low</th>\n",
              "      <th>Close</th>\n",
              "      <th>Volume</th>\n",
              "    </tr>\n",
              "    <tr>\n",
              "      <th>Date</th>\n",
              "      <th></th>\n",
              "      <th></th>\n",
              "      <th></th>\n",
              "      <th></th>\n",
              "      <th></th>\n",
              "    </tr>\n",
              "  </thead>\n",
              "  <tbody>\n",
              "    <tr>\n",
              "      <th>2021-03-12</th>\n",
              "      <td>275.00</td>\n",
              "      <td>295.50</td>\n",
              "      <td>262.27</td>\n",
              "      <td>264.5</td>\n",
              "      <td>25,845,900</td>\n",
              "    </tr>\n",
              "    <tr>\n",
              "      <th>2021-03-11</th>\n",
              "      <td>241.64</td>\n",
              "      <td>281.50</td>\n",
              "      <td>232.60</td>\n",
              "      <td>260.0</td>\n",
              "      <td>28,312,490</td>\n",
              "    </tr>\n",
              "    <tr>\n",
              "      <th>2021-03-10</th>\n",
              "      <td>269.43</td>\n",
              "      <td>348.50</td>\n",
              "      <td>172.00</td>\n",
              "      <td>265.0</td>\n",
              "      <td>71,570,570</td>\n",
              "    </tr>\n",
              "    <tr>\n",
              "      <th>2021-03-09</th>\n",
              "      <td>217.71</td>\n",
              "      <td>249.85</td>\n",
              "      <td>208.51</td>\n",
              "      <td>246.9</td>\n",
              "      <td>39,099,328</td>\n",
              "    </tr>\n",
              "    <tr>\n",
              "      <th>2021-03-08</th>\n",
              "      <td>154.89</td>\n",
              "      <td>210.87</td>\n",
              "      <td>146.10</td>\n",
              "      <td>194.5</td>\n",
              "      <td>63,565,621</td>\n",
              "    </tr>\n",
              "  </tbody>\n",
              "</table>\n",
              "</div>\n",
              "      <button class=\"colab-df-convert\" onclick=\"convertToInteractive('df-2ab7170e-a220-41ed-917a-9efff09c9143')\"\n",
              "              title=\"Convert this dataframe to an interactive table.\"\n",
              "              style=\"display:none;\">\n",
              "        \n",
              "  <svg xmlns=\"http://www.w3.org/2000/svg\" height=\"24px\"viewBox=\"0 0 24 24\"\n",
              "       width=\"24px\">\n",
              "    <path d=\"M0 0h24v24H0V0z\" fill=\"none\"/>\n",
              "    <path d=\"M18.56 5.44l.94 2.06.94-2.06 2.06-.94-2.06-.94-.94-2.06-.94 2.06-2.06.94zm-11 1L8.5 8.5l.94-2.06 2.06-.94-2.06-.94L8.5 2.5l-.94 2.06-2.06.94zm10 10l.94 2.06.94-2.06 2.06-.94-2.06-.94-.94-2.06-.94 2.06-2.06.94z\"/><path d=\"M17.41 7.96l-1.37-1.37c-.4-.4-.92-.59-1.43-.59-.52 0-1.04.2-1.43.59L10.3 9.45l-7.72 7.72c-.78.78-.78 2.05 0 2.83L4 21.41c.39.39.9.59 1.41.59.51 0 1.02-.2 1.41-.59l7.78-7.78 2.81-2.81c.8-.78.8-2.07 0-2.86zM5.41 20L4 18.59l7.72-7.72 1.47 1.35L5.41 20z\"/>\n",
              "  </svg>\n",
              "      </button>\n",
              "      \n",
              "  <style>\n",
              "    .colab-df-container {\n",
              "      display:flex;\n",
              "      flex-wrap:wrap;\n",
              "      gap: 12px;\n",
              "    }\n",
              "\n",
              "    .colab-df-convert {\n",
              "      background-color: #E8F0FE;\n",
              "      border: none;\n",
              "      border-radius: 50%;\n",
              "      cursor: pointer;\n",
              "      display: none;\n",
              "      fill: #1967D2;\n",
              "      height: 32px;\n",
              "      padding: 0 0 0 0;\n",
              "      width: 32px;\n",
              "    }\n",
              "\n",
              "    .colab-df-convert:hover {\n",
              "      background-color: #E2EBFA;\n",
              "      box-shadow: 0px 1px 2px rgba(60, 64, 67, 0.3), 0px 1px 3px 1px rgba(60, 64, 67, 0.15);\n",
              "      fill: #174EA6;\n",
              "    }\n",
              "\n",
              "    [theme=dark] .colab-df-convert {\n",
              "      background-color: #3B4455;\n",
              "      fill: #D2E3FC;\n",
              "    }\n",
              "\n",
              "    [theme=dark] .colab-df-convert:hover {\n",
              "      background-color: #434B5C;\n",
              "      box-shadow: 0px 1px 3px 1px rgba(0, 0, 0, 0.15);\n",
              "      filter: drop-shadow(0px 1px 2px rgba(0, 0, 0, 0.3));\n",
              "      fill: #FFFFFF;\n",
              "    }\n",
              "  </style>\n",
              "\n",
              "      <script>\n",
              "        const buttonEl =\n",
              "          document.querySelector('#df-2ab7170e-a220-41ed-917a-9efff09c9143 button.colab-df-convert');\n",
              "        buttonEl.style.display =\n",
              "          google.colab.kernel.accessAllowed ? 'block' : 'none';\n",
              "\n",
              "        async function convertToInteractive(key) {\n",
              "          const element = document.querySelector('#df-2ab7170e-a220-41ed-917a-9efff09c9143');\n",
              "          const dataTable =\n",
              "            await google.colab.kernel.invokeFunction('convertToInteractive',\n",
              "                                                     [key], {});\n",
              "          if (!dataTable) return;\n",
              "\n",
              "          const docLinkHtml = 'Like what you see? Visit the ' +\n",
              "            '<a target=\"_blank\" href=https://colab.research.google.com/notebooks/data_table.ipynb>data table notebook</a>'\n",
              "            + ' to learn more about interactive tables.';\n",
              "          element.innerHTML = '';\n",
              "          dataTable['output_type'] = 'display_data';\n",
              "          await google.colab.output.renderOutput(dataTable, element);\n",
              "          const docLink = document.createElement('div');\n",
              "          docLink.innerHTML = docLinkHtml;\n",
              "          element.appendChild(docLink);\n",
              "        }\n",
              "      </script>\n",
              "    </div>\n",
              "  </div>\n",
              "  "
            ],
            "text/plain": [
              "              Open    High     Low  Close      Volume\n",
              "Date                                                 \n",
              "2021-03-12  275.00  295.50  262.27  264.5  25,845,900\n",
              "2021-03-11  241.64  281.50  232.60  260.0  28,312,490\n",
              "2021-03-10  269.43  348.50  172.00  265.0  71,570,570\n",
              "2021-03-09  217.71  249.85  208.51  246.9  39,099,328\n",
              "2021-03-08  154.89  210.87  146.10  194.5  63,565,621"
            ]
          },
          "metadata": {},
          "execution_count": 40
        }
      ],
      "source": [
        "df.set_index('Date', inplace=True)\n",
        "df.head()"
      ]
    },
    {
      "cell_type": "code",
      "execution_count": null,
      "metadata": {
        "id": "7UflxxZyjxm2"
      },
      "outputs": [],
      "source": [
        "env = gym.make('stocks-v0', df=df, frame_bound=(5,100), window_size=5)"
      ]
    },
    {
      "cell_type": "code",
      "execution_count": null,
      "metadata": {
        "scrolled": true,
        "colab": {
          "base_uri": "https://localhost:8080/"
        },
        "id": "Kpe9au4Mjxm4",
        "outputId": "31db5369-d56e-415d-8816-20ad5efc11b6"
      },
      "outputs": [
        {
          "output_type": "execute_result",
          "data": {
            "text/plain": [
              "array([[ 2.6450e+02,  0.0000e+00],\n",
              "       [ 2.6000e+02, -4.5000e+00],\n",
              "       [ 2.6500e+02,  5.0000e+00],\n",
              "       [ 2.4690e+02, -1.8100e+01],\n",
              "       [ 1.9450e+02, -5.2400e+01],\n",
              "       [ 1.3774e+02, -5.6760e+01],\n",
              "       [ 1.3235e+02, -5.3900e+00],\n",
              "       [ 1.2418e+02, -8.1700e+00],\n",
              "       [ 1.1818e+02, -6.0000e+00],\n",
              "       [ 1.2040e+02,  2.2200e+00],\n",
              "       [ 1.0174e+02, -1.8660e+01],\n",
              "       [ 1.0873e+02,  6.9900e+00],\n",
              "       [ 9.1710e+01, -1.7020e+01],\n",
              "       [ 4.4970e+01, -4.6740e+01],\n",
              "       [ 4.6000e+01,  1.0300e+00],\n",
              "       [ 4.0590e+01, -5.4100e+00],\n",
              "       [ 4.0690e+01,  1.0000e-01],\n",
              "       [ 4.5940e+01,  5.2500e+00],\n",
              "       [ 4.9510e+01,  3.5700e+00],\n",
              "       [ 5.2400e+01,  2.8900e+00],\n",
              "       [ 5.1100e+01, -1.3000e+00],\n",
              "       [ 5.1200e+01,  1.0000e-01],\n",
              "       [ 5.0310e+01, -8.9000e-01],\n",
              "       [ 6.0000e+01,  9.6900e+00],\n",
              "       [ 6.3770e+01,  3.7700e+00],\n",
              "       [ 5.3500e+01, -1.0270e+01],\n",
              "       [ 9.2410e+01,  3.8910e+01],\n",
              "       [ 9.0000e+01, -2.4100e+00],\n",
              "       [ 2.2500e+02,  1.3500e+02],\n",
              "       [ 3.2500e+02,  1.0000e+02],\n",
              "       [ 1.9360e+02, -1.3140e+02],\n",
              "       [ 3.4751e+02,  1.5391e+02],\n",
              "       [ 1.4798e+02, -1.9953e+02],\n",
              "       [ 7.6790e+01, -7.1190e+01],\n",
              "       [ 6.5010e+01, -1.1780e+01],\n",
              "       [ 4.3030e+01, -2.1980e+01],\n",
              "       [ 3.9120e+01, -3.9100e+00],\n",
              "       [ 3.9360e+01,  2.4000e-01],\n",
              "       [ 3.5500e+01, -3.8600e+00],\n",
              "       [ 3.9910e+01,  4.4100e+00],\n",
              "       [ 3.1400e+01, -8.5100e+00],\n",
              "       [ 1.9950e+01, -1.1450e+01],\n",
              "       [ 1.9940e+01, -1.0000e-02],\n",
              "       [ 1.7690e+01, -2.2500e+00],\n",
              "       [ 1.8080e+01,  3.9000e-01],\n",
              "       [ 1.8360e+01,  2.8000e-01],\n",
              "       [ 1.7370e+01, -9.9000e-01],\n",
              "       [ 1.7250e+01, -1.2000e-01],\n",
              "       [ 1.8840e+01,  1.5900e+00],\n",
              "       [ 1.9260e+01,  4.2000e-01],\n",
              "       [ 1.9380e+01,  1.2000e-01],\n",
              "       [ 2.0990e+01,  1.6100e+00],\n",
              "       [ 2.0150e+01, -8.4000e-01],\n",
              "       [ 2.0570e+01,  4.2000e-01],\n",
              "       [ 1.9460e+01, -1.1100e+00],\n",
              "       [ 1.5530e+01, -3.9300e+00],\n",
              "       [ 1.5630e+01,  1.0000e-01],\n",
              "       [ 1.4830e+01, -8.0000e-01],\n",
              "       [ 1.3850e+01, -9.8000e-01],\n",
              "       [ 1.3850e+01,  0.0000e+00],\n",
              "       [ 1.2720e+01, -1.1300e+00],\n",
              "       [ 1.3310e+01,  5.9000e-01],\n",
              "       [ 1.4120e+01,  8.1000e-01],\n",
              "       [ 1.3660e+01, -4.6000e-01],\n",
              "       [ 1.6940e+01,  3.2800e+00],\n",
              "       [ 1.6350e+01, -5.9000e-01],\n",
              "       [ 1.6900e+01,  5.5000e-01],\n",
              "       [ 1.6120e+01, -7.8000e-01],\n",
              "       [ 1.6580e+01,  4.6000e-01],\n",
              "       [ 1.5800e+01, -7.8000e-01],\n",
              "       [ 1.6560e+01,  7.6000e-01],\n",
              "       [ 1.6080e+01, -4.8000e-01],\n",
              "       [ 1.4750e+01, -1.3300e+00],\n",
              "       [ 1.3670e+01, -1.0800e+00],\n",
              "       [ 1.3900e+01,  2.3000e-01],\n",
              "       [ 1.2710e+01, -1.1900e+00],\n",
              "       [ 1.2460e+01, -2.5000e-01],\n",
              "       [ 1.1570e+01, -8.9000e-01],\n",
              "       [ 1.1630e+01,  6.0000e-02],\n",
              "       [ 1.2060e+01,  4.3000e-01],\n",
              "       [ 1.1010e+01, -1.0500e+00],\n",
              "       [ 1.1130e+01,  1.2000e-01],\n",
              "       [ 1.1750e+01,  6.2000e-01],\n",
              "       [ 1.1100e+01, -6.5000e-01],\n",
              "       [ 1.1490e+01,  3.9000e-01],\n",
              "       [ 1.1860e+01,  3.7000e-01],\n",
              "       [ 1.1450e+01, -4.1000e-01],\n",
              "       [ 1.0910e+01, -5.4000e-01],\n",
              "       [ 1.1570e+01,  6.6000e-01],\n",
              "       [ 1.0750e+01, -8.2000e-01],\n",
              "       [ 1.0470e+01, -2.8000e-01],\n",
              "       [ 1.1730e+01,  1.2600e+00],\n",
              "       [ 1.1820e+01,  9.0000e-02],\n",
              "       [ 1.2690e+01,  8.7000e-01],\n",
              "       [ 1.3450e+01,  7.6000e-01],\n",
              "       [ 1.5000e+01,  1.5500e+00],\n",
              "       [ 1.4910e+01, -9.0000e-02],\n",
              "       [ 1.4100e+01, -8.1000e-01],\n",
              "       [ 1.3860e+01, -2.4000e-01],\n",
              "       [ 1.3910e+01,  5.0000e-02]])"
            ]
          },
          "metadata": {},
          "execution_count": 42
        }
      ],
      "source": [
        "env.signal_features"
      ]
    },
    {
      "cell_type": "markdown",
      "metadata": {
        "id": "3v8OAUaBjxm7"
      },
      "source": [
        "# 2. Build Environment"
      ]
    },
    {
      "cell_type": "code",
      "execution_count": null,
      "metadata": {
        "colab": {
          "base_uri": "https://localhost:8080/"
        },
        "id": "bvOB7SSxjxm8",
        "outputId": "b8dde13f-f108-4d4d-f1e7-14dc3c2fe62e"
      },
      "outputs": [
        {
          "output_type": "execute_result",
          "data": {
            "text/plain": [
              "Discrete(2)"
            ]
          },
          "metadata": {},
          "execution_count": 43
        }
      ],
      "source": [
        "env.action_space"
      ]
    },
    {
      "cell_type": "code",
      "execution_count": null,
      "metadata": {
        "colab": {
          "base_uri": "https://localhost:8080/",
          "height": 435
        },
        "id": "JRbsXI1wjxm9",
        "outputId": "4d73c576-9994-4b18-edfb-d64bcc51f68f"
      },
      "outputs": [
        {
          "output_type": "stream",
          "name": "stdout",
          "text": [
            "info {'total_reward': 112.44000000000003, 'total_profit': 0.2779127440010439, 'position': 0}\n"
          ]
        },
        {
          "output_type": "display_data",
          "data": {
            "image/png": "[encoded data removed]",
            "text/plain": [
              "<Figure size 1080x432 with 1 Axes>"
            ]
          },
          "metadata": {
            "needs_background": "light"
          }
        }
      ],
      "source": [
        "state = env.reset()\n",
        "while True: \n",
        "    action = env.action_space.sample()\n",
        "    n_state, reward, done, info = env.step(action)\n",
        "    if done: \n",
        "        print(\"info\", info)\n",
        "        break\n",
        "        \n",
        "plt.figure(figsize=(15,6))\n",
        "plt.cla()\n",
        "env.render_all()\n",
        "plt.show()"
      ]
    },
    {
      "cell_type": "markdown",
      "metadata": {
        "id": "cqrfGoG3jxm_"
      },
      "source": [
        "# 3. Build Environment and Train"
      ]
    },
    {
      "cell_type": "code",
      "execution_count": null,
      "metadata": {
        "id": "K-24ZHWljxnA"
      },
      "outputs": [],
      "source": [
        "env_maker = lambda: gym.make('stocks-v0', df=df, frame_bound=(5,100), window_size=5)\n",
        "env = DummyVecEnv([env_maker])"
      ]
    },
    {
      "cell_type": "code",
      "execution_count": null,
      "metadata": {
        "scrolled": true,
        "colab": {
          "base_uri": "https://localhost:8080/"
        },
        "id": "NtUK7IMtjxnB",
        "outputId": "76c8fbcf-c663-4a97-e7af-69e3caa0213c"
      },
      "outputs": [
        {
          "output_type": "stream",
          "name": "stdout",
          "text": [
            "---------------------------------\n",
            "| explained_variance | -5.5e+03 |\n",
            "| fps                | 17       |\n",
            "| nupdates           | 1        |\n",
            "| policy_entropy     | 0.693    |\n",
            "| total_timesteps    | 5        |\n",
            "| value_loss         | 0.000537 |\n",
            "---------------------------------\n",
            "---------------------------------\n",
            "| explained_variance | 0.000611 |\n",
            "| fps                | 302      |\n",
            "| nupdates           | 100      |\n",
            "| policy_entropy     | 0.693    |\n",
            "| total_timesteps    | 500      |\n",
            "| value_loss         | 1.81e+04 |\n",
            "---------------------------------\n",
            "---------------------------------\n",
            "| explained_variance | 0.058    |\n",
            "| fps                | 330      |\n",
            "| nupdates           | 200      |\n",
            "| policy_entropy     | 0.693    |\n",
            "| total_timesteps    | 1000     |\n",
            "| value_loss         | 0.244    |\n",
            "---------------------------------\n",
            "---------------------------------\n",
            "| explained_variance | 0.12     |\n",
            "| fps                | 339      |\n",
            "| nupdates           | 300      |\n",
            "| policy_entropy     | 0.693    |\n",
            "| total_timesteps    | 1500     |\n",
            "| value_loss         | 2.39     |\n",
            "---------------------------------\n",
            "---------------------------------\n",
            "| explained_variance | 0.000471 |\n",
            "| fps                | 343      |\n",
            "| nupdates           | 400      |\n",
            "| policy_entropy     | 0.692    |\n",
            "| total_timesteps    | 2000     |\n",
            "| value_loss         | 8.33e+03 |\n",
            "---------------------------------\n",
            "---------------------------------\n",
            "| explained_variance | -0.011   |\n",
            "| fps                | 345      |\n",
            "| nupdates           | 500      |\n",
            "| policy_entropy     | 0.693    |\n",
            "| total_timesteps    | 2500     |\n",
            "| value_loss         | 0.995    |\n",
            "---------------------------------\n",
            "---------------------------------\n",
            "| explained_variance | -0.109   |\n",
            "| fps                | 348      |\n",
            "| nupdates           | 600      |\n",
            "| policy_entropy     | 0.687    |\n",
            "| total_timesteps    | 3000     |\n",
            "| value_loss         | 0.000171 |\n",
            "---------------------------------\n",
            "---------------------------------\n",
            "| explained_variance | -0.0191  |\n",
            "| fps                | 350      |\n",
            "| nupdates           | 700      |\n",
            "| policy_entropy     | 0.667    |\n",
            "| total_timesteps    | 3500     |\n",
            "| value_loss         | 5.91     |\n",
            "---------------------------------\n",
            "---------------------------------\n",
            "| explained_variance | 0.229    |\n",
            "| fps                | 352      |\n",
            "| nupdates           | 800      |\n",
            "| policy_entropy     | 0.58     |\n",
            "| total_timesteps    | 4000     |\n",
            "| value_loss         | 36.5     |\n",
            "---------------------------------\n",
            "---------------------------------\n",
            "| explained_variance | -0.0607  |\n",
            "| fps                | 353      |\n",
            "| nupdates           | 900      |\n",
            "| policy_entropy     | 0.27     |\n",
            "| total_timesteps    | 4500     |\n",
            "| value_loss         | 0.00259  |\n",
            "---------------------------------\n",
            "---------------------------------\n",
            "| explained_variance | -32.8    |\n",
            "| fps                | 354      |\n",
            "| nupdates           | 1000     |\n",
            "| policy_entropy     | 0.122    |\n",
            "| total_timesteps    | 5000     |\n",
            "| value_loss         | 0.00352  |\n",
            "---------------------------------\n",
            "---------------------------------\n",
            "| explained_variance | -65.4    |\n",
            "| fps                | 355      |\n",
            "| nupdates           | 1100     |\n",
            "| policy_entropy     | 0.036    |\n",
            "| total_timesteps    | 5500     |\n",
            "| value_loss         | 0.00176  |\n",
            "---------------------------------\n",
            "---------------------------------\n",
            "| explained_variance | -7.7e+03 |\n",
            "| fps                | 354      |\n",
            "| nupdates           | 1200     |\n",
            "| policy_entropy     | 0.042    |\n",
            "| total_timesteps    | 6000     |\n",
            "| value_loss         | 6.96e-05 |\n",
            "---------------------------------\n",
            "---------------------------------\n",
            "| explained_variance | -401     |\n",
            "| fps                | 352      |\n",
            "| nupdates           | 1300     |\n",
            "| policy_entropy     | 0.0253   |\n",
            "| total_timesteps    | 6500     |\n",
            "| value_loss         | 0.000132 |\n",
            "---------------------------------\n",
            "---------------------------------\n",
            "| explained_variance | -35.9    |\n",
            "| fps                | 352      |\n",
            "| nupdates           | 1400     |\n",
            "| policy_entropy     | 0.0158   |\n",
            "| total_timesteps    | 7000     |\n",
            "| value_loss         | 0.000119 |\n",
            "---------------------------------\n",
            "---------------------------------\n",
            "| explained_variance | -2.49    |\n",
            "| fps                | 353      |\n",
            "| nupdates           | 1500     |\n",
            "| policy_entropy     | 0.0369   |\n",
            "| total_timesteps    | 7500     |\n",
            "| value_loss         | 2.56e-05 |\n",
            "---------------------------------\n",
            "---------------------------------\n",
            "| explained_variance | -192     |\n",
            "| fps                | 354      |\n",
            "| nupdates           | 1600     |\n",
            "| policy_entropy     | 0.00646  |\n",
            "| total_timesteps    | 8000     |\n",
            "| value_loss         | 0.000172 |\n",
            "---------------------------------\n",
            "---------------------------------\n",
            "| explained_variance | -6.43    |\n",
            "| fps                | 355      |\n",
            "| nupdates           | 1700     |\n",
            "| policy_entropy     | 0.0178   |\n",
            "| total_timesteps    | 8500     |\n",
            "| value_loss         | 0.000314 |\n",
            "---------------------------------\n",
            "---------------------------------\n",
            "| explained_variance | -1.04    |\n",
            "| fps                | 356      |\n",
            "| nupdates           | 1800     |\n",
            "| policy_entropy     | 0.0076   |\n",
            "| total_timesteps    | 9000     |\n",
            "| value_loss         | 0.000421 |\n",
            "---------------------------------\n",
            "---------------------------------\n",
            "| explained_variance | -483     |\n",
            "| fps                | 356      |\n",
            "| nupdates           | 1900     |\n",
            "| policy_entropy     | 0.00881  |\n",
            "| total_timesteps    | 9500     |\n",
            "| value_loss         | 0.00218  |\n",
            "---------------------------------\n",
            "---------------------------------\n",
            "| explained_variance | -3.47    |\n",
            "| fps                | 357      |\n",
            "| nupdates           | 2000     |\n",
            "| policy_entropy     | 0.0163   |\n",
            "| total_timesteps    | 10000    |\n",
            "| value_loss         | 0.00257  |\n",
            "---------------------------------\n",
            "---------------------------------\n",
            "| explained_variance | -38      |\n",
            "| fps                | 358      |\n",
            "| nupdates           | 2100     |\n",
            "| policy_entropy     | 0.00483  |\n",
            "| total_timesteps    | 10500    |\n",
            "| value_loss         | 0.00147  |\n",
            "---------------------------------\n",
            "---------------------------------\n",
            "| explained_variance | -4.88    |\n",
            "| fps                | 358      |\n",
            "| nupdates           | 2200     |\n",
            "| policy_entropy     | 0.0203   |\n",
            "| total_timesteps    | 11000    |\n",
            "| value_loss         | 0.0987   |\n",
            "---------------------------------\n",
            "----------------------------------\n",
            "| explained_variance | -4.56e+03 |\n",
            "| fps                | 358       |\n",
            "| nupdates           | 2300      |\n",
            "| policy_entropy     | 0.101     |\n",
            "| total_timesteps    | 11500     |\n",
            "| value_loss         | 0.129     |\n",
            "----------------------------------\n",
            "----------------------------------\n",
            "| explained_variance | -8.09e+03 |\n",
            "| fps                | 358       |\n",
            "| nupdates           | 2400      |\n",
            "| policy_entropy     | 0.00398   |\n",
            "| total_timesteps    | 12000     |\n",
            "| value_loss         | 0.00271   |\n",
            "----------------------------------\n",
            "---------------------------------\n",
            "| explained_variance | -55.1    |\n",
            "| fps                | 358      |\n",
            "| nupdates           | 2500     |\n",
            "| policy_entropy     | 0.00525  |\n",
            "| total_timesteps    | 12500    |\n",
            "| value_loss         | 0.000799 |\n",
            "---------------------------------\n",
            "---------------------------------\n",
            "| explained_variance | 0.0338   |\n",
            "| fps                | 358      |\n",
            "| nupdates           | 2600     |\n",
            "| policy_entropy     | 0.376    |\n",
            "| total_timesteps    | 13000    |\n",
            "| value_loss         | 1.35e+03 |\n",
            "---------------------------------\n",
            "---------------------------------\n",
            "| explained_variance | -23.2    |\n",
            "| fps                | 358      |\n",
            "| nupdates           | 2700     |\n",
            "| policy_entropy     | 0.00284  |\n",
            "| total_timesteps    | 13500    |\n",
            "| value_loss         | 0.000988 |\n",
            "---------------------------------\n",
            "----------------------------------\n",
            "| explained_variance | -1.73e+03 |\n",
            "| fps                | 358       |\n",
            "| nupdates           | 2800      |\n",
            "| policy_entropy     | 0.00202   |\n",
            "| total_timesteps    | 14000     |\n",
            "| value_loss         | 0.00311   |\n",
            "----------------------------------\n",
            "---------------------------------\n",
            "| explained_variance | -347     |\n",
            "| fps                | 357      |\n",
            "| nupdates           | 2900     |\n",
            "| policy_entropy     | 0.114    |\n",
            "| total_timesteps    | 14500    |\n",
            "| value_loss         | 13       |\n",
            "---------------------------------\n",
            "---------------------------------\n",
            "| explained_variance | -19.1    |\n",
            "| fps                | 357      |\n",
            "| nupdates           | 3000     |\n",
            "| policy_entropy     | 0.00185  |\n",
            "| total_timesteps    | 15000    |\n",
            "| value_loss         | 0.00342  |\n",
            "---------------------------------\n",
            "---------------------------------\n",
            "| explained_variance | -32.6    |\n",
            "| fps                | 357      |\n",
            "| nupdates           | 3100     |\n",
            "| policy_entropy     | 0.0012   |\n",
            "| total_timesteps    | 15500    |\n",
            "| value_loss         | 0.000313 |\n",
            "---------------------------------\n",
            "---------------------------------\n",
            "| explained_variance | -11.4    |\n",
            "| fps                | 357      |\n",
            "| nupdates           | 3200     |\n",
            "| policy_entropy     | 0.00695  |\n",
            "| total_timesteps    | 16000    |\n",
            "| value_loss         | 0.0657   |\n",
            "---------------------------------\n",
            "---------------------------------\n",
            "| explained_variance | -2.55    |\n",
            "| fps                | 357      |\n",
            "| nupdates           | 3300     |\n",
            "| policy_entropy     | 0.0161   |\n",
            "| total_timesteps    | 16500    |\n",
            "| value_loss         | 0.0273   |\n",
            "---------------------------------\n",
            "---------------------------------\n",
            "| explained_variance | -7.23    |\n",
            "| fps                | 357      |\n",
            "| nupdates           | 3400     |\n",
            "| policy_entropy     | 0.00293  |\n",
            "| total_timesteps    | 17000    |\n",
            "| value_loss         | 0.00772  |\n",
            "---------------------------------\n",
            "---------------------------------\n",
            "| explained_variance | -68.9    |\n",
            "| fps                | 357      |\n",
            "| nupdates           | 3500     |\n",
            "| policy_entropy     | 0.00423  |\n",
            "| total_timesteps    | 17500    |\n",
            "| value_loss         | 0.00259  |\n",
            "---------------------------------\n",
            "---------------------------------\n",
            "| explained_variance | -10.5    |\n",
            "| fps                | 357      |\n",
            "| nupdates           | 3600     |\n",
            "| policy_entropy     | 0.00351  |\n",
            "| total_timesteps    | 18000    |\n",
            "| value_loss         | 0.00667  |\n",
            "---------------------------------\n",
            "---------------------------------\n",
            "| explained_variance | -3.96    |\n",
            "| fps                | 357      |\n",
            "| nupdates           | 3700     |\n",
            "| policy_entropy     | 0.00104  |\n",
            "| total_timesteps    | 18500    |\n",
            "| value_loss         | 0.000635 |\n",
            "---------------------------------\n",
            "---------------------------------\n",
            "| explained_variance | -60.1    |\n",
            "| fps                | 357      |\n",
            "| nupdates           | 3800     |\n",
            "| policy_entropy     | 0.00108  |\n",
            "| total_timesteps    | 19000    |\n",
            "| value_loss         | 0.00902  |\n",
            "---------------------------------\n",
            "---------------------------------\n",
            "| explained_variance | -16.9    |\n",
            "| fps                | 358      |\n",
            "| nupdates           | 3900     |\n",
            "| policy_entropy     | 0.000936 |\n",
            "| total_timesteps    | 19500    |\n",
            "| value_loss         | 0.00106  |\n",
            "---------------------------------\n",
            "---------------------------------\n",
            "| explained_variance | -113     |\n",
            "| fps                | 358      |\n",
            "| nupdates           | 4000     |\n",
            "| policy_entropy     | 0.000266 |\n",
            "| total_timesteps    | 20000    |\n",
            "| value_loss         | 0.000139 |\n",
            "---------------------------------\n",
            "---------------------------------\n",
            "| explained_variance | -77.5    |\n",
            "| fps                | 358      |\n",
            "| nupdates           | 4100     |\n",
            "| policy_entropy     | 0.00041  |\n",
            "| total_timesteps    | 20500    |\n",
            "| value_loss         | 0.00128  |\n",
            "---------------------------------\n",
            "---------------------------------\n",
            "| explained_variance | -97.2    |\n",
            "| fps                | 359      |\n",
            "| nupdates           | 4200     |\n",
            "| policy_entropy     | 0.00063  |\n",
            "| total_timesteps    | 21000    |\n",
            "| value_loss         | 0.0026   |\n",
            "---------------------------------\n",
            "---------------------------------\n",
            "| explained_variance | -1.68    |\n",
            "| fps                | 359      |\n",
            "| nupdates           | 4300     |\n",
            "| policy_entropy     | 0.000172 |\n",
            "| total_timesteps    | 21500    |\n",
            "| value_loss         | 0.00017  |\n",
            "---------------------------------\n",
            "----------------------------------\n",
            "| explained_variance | -7.26e+05 |\n",
            "| fps                | 359       |\n",
            "| nupdates           | 4400      |\n",
            "| policy_entropy     | 0.00759   |\n",
            "| total_timesteps    | 22000     |\n",
            "| value_loss         | 0.0322    |\n",
            "----------------------------------\n",
            "---------------------------------\n",
            "| explained_variance | -128     |\n",
            "| fps                | 357      |\n",
            "| nupdates           | 4500     |\n",
            "| policy_entropy     | 0.00296  |\n",
            "| total_timesteps    | 22500    |\n",
            "| value_loss         | 0.00865  |\n",
            "---------------------------------\n",
            "---------------------------------\n",
            "| explained_variance | -123     |\n",
            "| fps                | 357      |\n",
            "| nupdates           | 4600     |\n",
            "| policy_entropy     | 0.000116 |\n",
            "| total_timesteps    | 23000    |\n",
            "| value_loss         | 0.00443  |\n",
            "---------------------------------\n",
            "---------------------------------\n",
            "| explained_variance | nan      |\n",
            "| fps                | 357      |\n",
            "| nupdates           | 4700     |\n",
            "| policy_entropy     | 8.97e-05 |\n",
            "| total_timesteps    | 23500    |\n",
            "| value_loss         | 0.263    |\n",
            "---------------------------------\n",
            "---------------------------------\n",
            "| explained_variance | -2.6e+03 |\n",
            "| fps                | 358      |\n",
            "| nupdates           | 4800     |\n",
            "| policy_entropy     | 0.151    |\n",
            "| total_timesteps    | 24000    |\n",
            "| value_loss         | 0.297    |\n",
            "---------------------------------\n",
            "---------------------------------\n",
            "| explained_variance | -23.1    |\n",
            "| fps                | 358      |\n",
            "| nupdates           | 4900     |\n",
            "| policy_entropy     | 4.99e-05 |\n",
            "| total_timesteps    | 24500    |\n",
            "| value_loss         | 0.0219   |\n",
            "---------------------------------\n",
            "----------------------------------\n",
            "| explained_variance | -2.91e+03 |\n",
            "| fps                | 358       |\n",
            "| nupdates           | 5000      |\n",
            "| policy_entropy     | 4.36e-05  |\n",
            "| total_timesteps    | 25000     |\n",
            "| value_loss         | 0.00125   |\n",
            "----------------------------------\n"
          ]
        },
        {
          "output_type": "execute_result",
          "data": {
            "text/plain": [
              "<stable_baselines.a2c.a2c.A2C at 0x7f0fb699fd50>"
            ]
          },
          "metadata": {},
          "execution_count": 48
        }
      ],
      "source": [
        "model = A2C('MlpLstmPolicy', env, verbose=1) \n",
        "model.learn(total_timesteps=25000)"
      ]
    },
    {
      "cell_type": "markdown",
      "metadata": {
        "id": "py42jQJKjxnC"
      },
      "source": [
        "# 4. Evaluation"
      ]
    },
    {
      "cell_type": "code",
      "execution_count": null,
      "metadata": {
        "colab": {
          "base_uri": "https://localhost:8080/"
        },
        "id": "XHiAPiBCjxnD",
        "outputId": "d5f72e21-bcbc-4bb6-ed8f-ca929c580abc"
      },
      "outputs": [
        {
          "output_type": "stream",
          "name": "stdout",
          "text": [
            "info {'total_reward': 0.0, 'total_profit': 0.7944222506393862, 'position': 1}\n"
          ]
        }
      ],
      "source": [
        "env = gym.make('stocks-v0', df=df, frame_bound=(90,110), window_size=5)\n",
        "obs = env.reset()\n",
        "while True: \n",
        "    obs = obs[np.newaxis, ...]\n",
        "    action, _states = model.predict(obs)\n",
        "    obs, rewards, done, info = env.step(action)\n",
        "    if done:\n",
        "        print(\"info\", info)\n",
        "        break"
      ]
    },
    {
      "cell_type": "code",
      "execution_count": null,
      "metadata": {
        "colab": {
          "base_uri": "https://localhost:8080/",
          "height": 417
        },
        "id": "CVxNrtEXjxnH",
        "outputId": "c8d30dc9-da0f-44f8-b4fe-a17f66617cee"
      },
      "outputs": [
        {
          "output_type": "display_data",
          "data": {
            "image/png": "[encoded data removed]",
            "text/plain": [
              "<Figure size 1080x432 with 1 Axes>"
            ]
          },
          "metadata": {
            "needs_background": "light"
          }
        }
      ],
      "source": [
        "plt.figure(figsize=(15,6))\n",
        "plt.cla()\n",
        "env.render_all()\n",
        "plt.show()"
      ]
    },
    {
      "cell_type": "code",
      "execution_count": null,
      "metadata": {
        "id": "yXG7JQ54jxnJ"
      },
      "outputs": [],
      "source": [
        "from stable_baselines.common.policies import MlpPolicy, MlpLstmPolicy, MlpLnLstmPolicy\n",
        "from stable_baselines.common import make_vec_env\n",
        "from stable_baselines import ACKTR\n",
        "\n",
        "env_maker2 = lambda: gym.make('stocks-v0', df=df, frame_bound=(5,100), window_size=5)\n",
        "env = DummyVecEnv([env_maker2])"
      ]
    },
    {
      "cell_type": "code",
      "source": [
        "model = ACKTR('MlpLstmPolicy', env, verbose=1)\n",
        "model.learn(total_timesteps=25000)"
      ],
      "metadata": {
        "colab": {
          "base_uri": "https://localhost:8080/"
        },
        "id": "CPfVE9qM7Icn",
        "outputId": "b7866297-85fb-48ad-b317-2b39bb9f9124"
      },
      "execution_count": 63,
      "outputs": [
        {
          "output_type": "stream",
          "name": "stdout",
          "text": [
            "WARNING:tensorflow:From /usr/local/lib/python3.7/dist-packages/stable_baselines/acktr/acktr.py:307: The name tf.is_variable_initialized is deprecated. Please use tf.compat.v1.is_variable_initialized instead.\n",
            "\n",
            "WARNING:tensorflow:From /usr/local/lib/python3.7/dist-packages/stable_baselines/acktr/kfac.py:973: The name tf.train.MomentumOptimizer is deprecated. Please use tf.compat.v1.train.MomentumOptimizer instead.\n",
            "\n",
            "WARNING:tensorflow:From /usr/local/lib/python3.7/dist-packages/stable_baselines/acktr/kfac.py:914: The name tf.mod is deprecated. Please use tf.math.mod instead.\n",
            "\n",
            "WARNING:tensorflow:From /usr/local/lib/python3.7/dist-packages/stable_baselines/acktr/kfac.py:621: The name tf.self_adjoint_eig is deprecated. Please use tf.linalg.eigh instead.\n",
            "\n",
            "----------------------------------\n",
            "| explained_variance | -0.000511 |\n",
            "| fps                | 9         |\n",
            "| nupdates           | 1         |\n",
            "| policy_entropy     | 0.693     |\n",
            "| policy_loss        | -15       |\n",
            "| total_timesteps    | 20        |\n",
            "| value_loss         | 1.02e+03  |\n",
            "----------------------------------\n",
            "----------------------------------\n",
            "| explained_variance | -3.64     |\n",
            "| fps                | 20        |\n",
            "| nupdates           | 100       |\n",
            "| policy_entropy     | 0.0166    |\n",
            "| policy_loss        | -0.000358 |\n",
            "| total_timesteps    | 2000      |\n",
            "| value_loss         | 0.00954   |\n",
            "----------------------------------\n",
            "---------------------------------\n",
            "| explained_variance | -195     |\n",
            "| fps                | 19       |\n",
            "| nupdates           | 200      |\n",
            "| policy_entropy     | 0.0205   |\n",
            "| policy_loss        | -0.00021 |\n",
            "| total_timesteps    | 4000     |\n",
            "| value_loss         | 1.2e-05  |\n",
            "---------------------------------\n",
            "---------------------------------\n",
            "| explained_variance | 0.000968 |\n",
            "| fps                | 18       |\n",
            "| nupdates           | 300      |\n",
            "| policy_entropy     | 0.145    |\n",
            "| policy_loss        | -0.0837  |\n",
            "| total_timesteps    | 6000     |\n",
            "| value_loss         | 0.078    |\n",
            "---------------------------------\n",
            "---------------------------------\n",
            "| explained_variance | 0.0125   |\n",
            "| fps                | 18       |\n",
            "| nupdates           | 400      |\n",
            "| policy_entropy     | 0.283    |\n",
            "| policy_loss        | -0.8     |\n",
            "| total_timesteps    | 8000     |\n",
            "| value_loss         | 13.1     |\n",
            "---------------------------------\n",
            "---------------------------------\n",
            "| explained_variance | 0.000779 |\n",
            "| fps                | 18       |\n",
            "| nupdates           | 500      |\n",
            "| policy_entropy     | 0.459    |\n",
            "| policy_loss        | 69.3     |\n",
            "| total_timesteps    | 10000    |\n",
            "| value_loss         | 5.56e+04 |\n",
            "---------------------------------\n",
            "---------------------------------\n",
            "| explained_variance | -0.675   |\n",
            "| fps                | 18       |\n",
            "| nupdates           | 600      |\n",
            "| policy_entropy     | 0.299    |\n",
            "| policy_loss        | -0.696   |\n",
            "| total_timesteps    | 12000    |\n",
            "| value_loss         | 2.08     |\n",
            "---------------------------------\n",
            "---------------------------------\n",
            "| explained_variance | -0.943   |\n",
            "| fps                | 18       |\n",
            "| nupdates           | 700      |\n",
            "| policy_entropy     | 0.383    |\n",
            "| policy_loss        | -0.244   |\n",
            "| total_timesteps    | 14000    |\n",
            "| value_loss         | 0.578    |\n",
            "---------------------------------\n",
            "---------------------------------\n",
            "| explained_variance | -2.78    |\n",
            "| fps                | 18       |\n",
            "| nupdates           | 800      |\n",
            "| policy_entropy     | 0.338    |\n",
            "| policy_loss        | 0.86     |\n",
            "| total_timesteps    | 16000    |\n",
            "| value_loss         | 37       |\n",
            "---------------------------------\n",
            "---------------------------------\n",
            "| explained_variance | -2.47    |\n",
            "| fps                | 18       |\n",
            "| nupdates           | 900      |\n",
            "| policy_entropy     | 0.376    |\n",
            "| policy_loss        | -0.655   |\n",
            "| total_timesteps    | 18000    |\n",
            "| value_loss         | 71.9     |\n",
            "---------------------------------\n",
            "---------------------------------\n",
            "| explained_variance | -1.55    |\n",
            "| fps                | 18       |\n",
            "| nupdates           | 1000     |\n",
            "| policy_entropy     | 0.311    |\n",
            "| policy_loss        | -0.531   |\n",
            "| total_timesteps    | 20000    |\n",
            "| value_loss         | 4.99     |\n",
            "---------------------------------\n",
            "---------------------------------\n",
            "| explained_variance | 0.941    |\n",
            "| fps                | 18       |\n",
            "| nupdates           | 1100     |\n",
            "| policy_entropy     | 0.48     |\n",
            "| policy_loss        | 0.295    |\n",
            "| total_timesteps    | 22000    |\n",
            "| value_loss         | 16.5     |\n",
            "---------------------------------\n",
            "---------------------------------\n",
            "| explained_variance | 0.228    |\n",
            "| fps                | 18       |\n",
            "| nupdates           | 1200     |\n",
            "| policy_entropy     | 0.176    |\n",
            "| policy_loss        | 11.1     |\n",
            "| total_timesteps    | 24000    |\n",
            "| value_loss         | 3.6e+04  |\n",
            "---------------------------------\n"
          ]
        },
        {
          "output_type": "execute_result",
          "data": {
            "text/plain": [
              "<stable_baselines.acktr.acktr.ACKTR at 0x7f0fafb8edd0>"
            ]
          },
          "metadata": {},
          "execution_count": 63
        }
      ]
    },
    {
      "cell_type": "code",
      "source": [
        "env = gym.make('stocks-v0', df=df, frame_bound=(90,110), window_size=5)\n",
        "obs = env.reset()\n",
        "while True: \n",
        "    obs = obs[np.newaxis, ...]\n",
        "    action, _states = model.predict(obs)\n",
        "    obs, rewards, done, info = env.step(action)\n",
        "    if done:\n",
        "        print(\"info\", info)\n",
        "        break"
      ],
      "metadata": {
        "colab": {
          "base_uri": "https://localhost:8080/"
        },
        "id": "c9gE8EoVAxyA",
        "outputId": "e90f3ccf-2c04-428b-82d1-e6842b9c0f66"
      },
      "execution_count": 64,
      "outputs": [
        {
          "output_type": "stream",
          "name": "stdout",
          "text": [
            "info {'total_reward': 0.0, 'total_profit': 1.0, 'position': 0}\n"
          ]
        }
      ]
    },
    {
      "cell_type": "code",
      "source": [
        "plt.figure(figsize=(15,6))\n",
        "plt.cla()\n",
        "env.render_all()\n",
        "plt.show()"
      ],
      "metadata": {
        "colab": {
          "base_uri": "https://localhost:8080/",
          "height": 417
        },
        "id": "A7bxe74gA9Dk",
        "outputId": "7a405986-9f39-4ada-898e-470bc87e3824"
      },
      "execution_count": 65,
      "outputs": [
        {
          "output_type": "display_data",
          "data": {
            "image/png": "[encoded data removed]",
            "text/plain": [
              "<Figure size 1080x432 with 1 Axes>"
            ]
          },
          "metadata": {
            "needs_background": "light"
          }
        }
      ]
    }
  ],
  "metadata": {
    "kernelspec": {
      "display_name": "Python 3",
      "language": "python",
      "name": "python3"
    },
    "language_info": {
      "codemirror_mode": {
        "name": "ipython",
        "version": 3
      },
      "file_extension": ".py",
      "mimetype": "text/x-python",
      "name": "python",
      "nbconvert_exporter": "python",
      "pygments_lexer": "ipython3",
      "version": "3.8.8"
    },
    "colab": {
      "name": "Reinforcement_Learning_GME_Trading_Tutorial.ipynb",
      "provenance": []
    }
  },
  "nbformat": 4,
  "nbformat_minor": 0
}